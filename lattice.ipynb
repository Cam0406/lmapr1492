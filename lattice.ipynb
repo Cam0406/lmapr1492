{
 "cells": [
  {
   "cell_type": "markdown",
   "id": "c4bcaba5",
   "metadata": {},
   "source": [
    "# Tâche 4"
   ]
  },
  {
   "cell_type": "code",
   "execution_count": 1,
   "id": "470164a5",
   "metadata": {},
   "outputs": [],
   "source": [
    "import numpy as np\n",
    "from mp_api.client import MPRester\n",
    "from pymatgen.core.operations import SymmOp\n",
    "from pymatgen.symmetry.analyzer import SpacegroupAnalyzer\n",
    "from jupyter_jsmol.pymatgen import quick_view\n",
    "from lmapr1492 import plot_brillouin_zone, get_plot_bs, get_plot_dos, get_plot_bs_and_dos, get_branch_wavevectors\n",
    "from plotly.subplots import make_subplots\n",
    "import plotly.graph_objects as go"
   ]
  },
  {
   "cell_type": "code",
   "execution_count": 2,
   "id": "77d0060a",
   "metadata": {},
   "outputs": [],
   "source": [
    "mp_key = \"xaEW7gxeGjtHSTeJuWSz9Uf8JpzNlgtg\"\n",
    "mp_id = \"mp-9382\""
   ]
  },
  {
   "cell_type": "code",
   "execution_count": 10,
   "id": "58e37bc0",
   "metadata": {
    "scrolled": true
   },
   "outputs": [
    {
     "data": {
      "application/vnd.jupyter.widget-view+json": {
       "model_id": "fcb743893a174d37a2a2a93efd033ce4",
       "version_major": 2,
       "version_minor": 0
      },
      "text/plain": [
       "Retrieving MaterialsDoc documents:   0%|          | 0/1 [00:00<?, ?it/s]"
      ]
     },
     "metadata": {},
     "output_type": "display_data"
    }
   ],
   "source": [
    "with MPRester(mp_key) as m:\n",
    "    structure = m.get_structure_by_material_id(mp_id)\n",
    "struct = SpacegroupAnalyzer(structure)"
   ]
  },
  {
   "cell_type": "markdown",
   "id": "16e0db08",
   "metadata": {},
   "source": [
    "# Analyse géométrie\n"
   ]
  },
  {
   "cell_type": "code",
   "execution_count": 11,
   "id": "4c3aa0f4",
   "metadata": {},
   "outputs": [
    {
     "name": "stdout",
     "output_type": "stream",
     "text": [
      "Caractérisqtiques géométriques  :\n",
      "Full Formula (Sr1 Zr1 N2)\n",
      "Reduced Formula: SrZrN2\n",
      "abc   :   6.234583   6.234584   6.234584\n",
      "angles:  31.423545  31.423541  31.423542\n",
      "pbc   :       True       True       True\n",
      "Sites (4)\n",
      "  #  SP           a         b        c    magmom\n",
      "---  ----  --------  --------  -------  --------\n",
      "  0  Sr    -0        -0        0               0\n",
      "  1  Zr     0.5       0.5      0.5             0\n",
      "  2  N      0.76659   0.76659  0.76659        -0\n",
      "  3  N      0.23341   0.23341  0.23341        -0\n"
     ]
    }
   ],
   "source": [
    "print(\"Caractérisqtiques géométriques  :\")\n",
    "print(structure)"
   ]
  },
  {
   "cell_type": "markdown",
   "id": "30fdc332",
   "metadata": {},
   "source": [
    "# Réseau direct"
   ]
  },
  {
   "cell_type": "code",
   "execution_count": 12,
   "id": "d363ec02",
   "metadata": {},
   "outputs": [
    {
     "name": "stdout",
     "output_type": "stream",
     "text": [
      "Vecteurs de bases du réseau direct :\n",
      "a =  [3.25590399e+00 3.87765000e-03 5.31686963e+00]\n",
      "b =  [1.50155428 2.88899023 5.31686963]\n",
      "c =  [6.37686000e-03 3.87765000e-03 6.23457986e+00]\n",
      "\n"
     ]
    }
   ],
   "source": [
    "# Extraction des vecteurs de base du réseau direct\n",
    "res_direct = structure.lattice\n",
    "mat_direct = res_direct.matrix\n",
    "\n",
    "print(\"Vecteurs de bases du réseau direct :\")\n",
    "print(\"a = \", mat_direct[0])\n",
    "print(\"b = \", mat_direct[1])\n",
    "print(\"c = \", mat_direct[2])\n",
    "print(\"\")\n",
    "\n"
   ]
  },
  {
   "cell_type": "markdown",
   "id": "e7393a85",
   "metadata": {},
   "source": [
    "# Réseau réciproque"
   ]
  },
  {
   "cell_type": "code",
   "execution_count": 13,
   "id": "a89ebd1a",
   "metadata": {},
   "outputs": [
    {
     "name": "stdout",
     "output_type": "stream",
     "text": [
      "Vecteurs de bases du réseau réciproque :\n",
      "a* =  [ 1.93318675e+00 -1.00228314e+00 -1.35392572e-03]\n",
      "b* =  [-3.82377318e-04  2.17756303e+00 -1.35396275e-03]\n",
      "c* =  [-1.64830175 -1.00228245  1.0101054 ]\n",
      "\n"
     ]
    }
   ],
   "source": [
    "#réseau réciproque\n",
    "res_reci = structure.lattice.reciprocal_lattice\n",
    "mat_reci = res_reci.matrix\n",
    "\n",
    "print(\"Vecteurs de bases du réseau réciproque :\")\n",
    "print(\"a* = \", mat_reci[0])\n",
    "print(\"b* = \", mat_reci[1])\n",
    "print(\"c* = \", mat_reci[2])\n",
    "print(\"\")"
   ]
  },
  {
   "cell_type": "markdown",
   "id": "a0a6405d",
   "metadata": {},
   "source": [
    "# Sytème cristallin, type de maille et groupe ponctuel"
   ]
  },
  {
   "cell_type": "markdown",
   "id": "ef9ef7d1",
   "metadata": {},
   "source": [
    "Le système cristallin représente la manière d’agencer périodiquement les points. Dans notre cas, étant donné que a=b=c et alpha=beta=gamma, il s'agit d'un système cristallin trigonal."
   ]
  },
  {
   "cell_type": "code",
   "execution_count": 14,
   "id": "c7eaeb7d",
   "metadata": {},
   "outputs": [
    {
     "name": "stdout",
     "output_type": "stream",
     "text": [
      "Système cristallin : trigonal\n",
      "\n",
      "Type de maille : rhombohedral\n",
      "\n",
      "Groupe ponctuel : -3m\n"
     ]
    }
   ],
   "source": [
    "syst_cristal = struct.get_crystal_system() \n",
    "print(\"Système cristallin :\", syst_cristal)\n",
    "print(\"\")\n",
    "\n",
    "type_maille = struct.get_lattice_type()\n",
    "print(\"Type de maille :\", type_maille)\n",
    "print(\"\")\n",
    "\n",
    "group_ponctuel = struct.get_point_group_symbol()\n",
    "print(\"Groupe ponctuel :\", group_ponctuel)"
   ]
  }
 ],
 "metadata": {
  "kernelspec": {
   "display_name": "Python 3 (ipykernel)",
   "language": "python",
   "name": "python3"
  },
  "language_info": {
   "codemirror_mode": {
    "name": "ipython",
    "version": 3
   },
   "file_extension": ".py",
   "mimetype": "text/x-python",
   "name": "python",
   "nbconvert_exporter": "python",
   "pygments_lexer": "ipython3",
   "version": "3.9.13"
  }
 },
 "nbformat": 4,
 "nbformat_minor": 5
}
