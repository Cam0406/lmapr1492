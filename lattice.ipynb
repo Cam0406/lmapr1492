{
 "cells": [
  {
   "cell_type": "markdown",
   "id": "c4bcaba5",
   "metadata": {},
   "source": [
    "# Tâche 4"
   ]
  },
  {
   "cell_type": "code",
   "execution_count": 39,
   "id": "470164a5",
   "metadata": {},
   "outputs": [],
   "source": [
    "import numpy as np\n",
    "from mp_api.client import MPRester\n",
    "from pymatgen.core.operations import SymmOp\n",
    "from pymatgen.symmetry.analyzer import SpacegroupAnalyzer\n",
    "from jupyter_jsmol.pymatgen import quick_view\n",
    "from lmapr1492 import plot_brillouin_zone, get_plot_bs, get_plot_dos, get_plot_bs_and_dos, get_branch_wavevectors\n",
    "from plotly.subplots import make_subplots\n",
    "import plotly.graph_objects as go\n",
    "from IPython.display import Image"
   ]
  },
  {
   "cell_type": "code",
   "execution_count": 40,
   "id": "77d0060a",
   "metadata": {},
   "outputs": [],
   "source": [
    "mp_key = \"xaEW7gxeGjtHSTeJuWSz9Uf8JpzNlgtg\"\n",
    "mp_id = \"mp-9382\""
   ]
  },
  {
   "cell_type": "code",
   "execution_count": 41,
   "id": "58e37bc0",
   "metadata": {
    "scrolled": true
   },
   "outputs": [
    {
     "data": {
      "application/vnd.jupyter.widget-view+json": {
       "model_id": "8958411c574a4370bc847c724611ecec",
       "version_major": 2,
       "version_minor": 0
      },
      "text/plain": [
       "Retrieving MaterialsDoc documents:   0%|          | 0/1 [00:00<?, ?it/s]"
      ]
     },
     "metadata": {},
     "output_type": "display_data"
    }
   ],
   "source": [
    "with MPRester(mp_key) as m:\n",
    "    structure = m.get_structure_by_material_id(mp_id)\n",
    "struct = SpacegroupAnalyzer(structure)\n",
    "prim_struct = struct.get_primitive_standard_structure()\n",
    "conv_struct = struct.get_conventional_standard_structure()"
   ]
  },
  {
   "cell_type": "markdown",
   "id": "30fdc332",
   "metadata": {},
   "source": [
    "# Réseau direct"
   ]
  },
  {
   "cell_type": "markdown",
   "id": "503efb3b",
   "metadata": {},
   "source": [
    "Pour obtenir les vecteurs de base du réseau direct, nous nous basons sur la maille primitive. Celle-ci définit la plus petite unité répétitive du réseau sans redondance. Elle garantit une description minimale et efficace du réseau cristallin, facilite la construction du réseau réciproque. \n",
    "\n",
    "Les vecteurs de base de la maille primitive (a,b,c) définissent les translations élémentaires du réseau cristallin. Ce sont les plus petits vecteurs qui permettent de reconstruire l’ensemble du réseau par répétition périodique.\n"
   ]
  },
  {
   "cell_type": "code",
   "execution_count": 42,
   "id": "d363ec02",
   "metadata": {},
   "outputs": [
    {
     "name": "stdout",
     "output_type": "stream",
     "text": [
      "Vecteurs de base du réseau direct :\n",
      "a = [ 6.00163556 -1.68831424  0.        ]\n",
      "b = [6.00163556 1.68831424 0.        ]\n",
      "c = [5.52669753 0.         2.88542003]\n",
      "\n",
      "Longueurs des vecteurs :\n",
      "||a|| = 6.2346 Å\n",
      "||b|| = 6.2346 Å\n",
      "||c|| = 6.2346 Å\n"
     ]
    }
   ],
   "source": [
    "# Extraction des vecteurs de base du réseau direct\n",
    "res_direct = prim_struct.lattice\n",
    "mat_direct = res_direct.matrix\n",
    "\n",
    "\n",
    "lengths = [np.linalg.norm(vec) for vec in mat_direct]\n",
    "\n",
    "print(\"Vecteurs de base du réseau direct :\")\n",
    "print(f\"a = {mat_direct[0]}\")\n",
    "print(f\"b = {mat_direct[1]}\")\n",
    "print(f\"c = {mat_direct[2]}\\n\")\n",
    "\n",
    "print(\"Longueurs des vecteurs :\")\n",
    "print(f\"||a|| = {lengths[0]:.4f} Å\")\n",
    "print(f\"||b|| = {lengths[1]:.4f} Å\")\n",
    "print(f\"||c|| = {lengths[2]:.4f} Å\")\n"
   ]
  },
  {
   "cell_type": "markdown",
   "id": "e7393a85",
   "metadata": {},
   "source": [
    "# Réseau réciproque"
   ]
  },
  {
   "cell_type": "markdown",
   "id": "7b2950d0",
   "metadata": {},
   "source": [
    "De manière analogue, nous utilisons la maille primitive pour trouver les vecteurs de base du réseau réciproque. Ces vecteurs définissent la structure périodique du cristal dans l'espace réciproque.\n",
    "\n",
    "\n"
   ]
  },
  {
   "cell_type": "code",
   "execution_count": 43,
   "id": "a89ebd1a",
   "metadata": {},
   "outputs": [
    {
     "name": "stdout",
     "output_type": "stream",
     "text": [
      "Vecteurs de base du réseau réciproque :\n",
      "a* = [ 0.52345608 -1.86078669 -1.00262126]\n",
      "b* = [ 0.52345608  1.86078669 -1.00262126]\n",
      "c* = [0.         0.         2.17756349]\n",
      "\n",
      "Longueurs des vecteurs réciproques :\n",
      "||a*|| = 2.1776 Å⁻¹\n",
      "||b*|| = 2.1776 Å⁻¹\n",
      "||c*|| = 2.1776 Å⁻¹\n"
     ]
    }
   ],
   "source": [
    "#réseau réciproque\n",
    "res_reci = prim_struct.lattice.reciprocal_lattice\n",
    "mat_reci = res_reci.matrix\n",
    "\n",
    "lengths_reci = [np.linalg.norm(vec) for vec in mat_reci]\n",
    "\n",
    "print(\"Vecteurs de base du réseau réciproque :\")\n",
    "print(f\"a* = {mat_reci[0]}\")\n",
    "print(f\"b* = {mat_reci[1]}\")\n",
    "print(f\"c* = {mat_reci[2]}\\n\")\n",
    "\n",
    "print(\"Longueurs des vecteurs réciproques :\")\n",
    "print(f\"||a*|| = {lengths_reci[0]:.4f} Å⁻¹\")\n",
    "print(f\"||b*|| = {lengths_reci[1]:.4f} Å⁻¹\")\n",
    "print(f\"||c*|| = {lengths_reci[2]:.4f} Å⁻¹\")"
   ]
  },
  {
   "cell_type": "markdown",
   "id": "a0a6405d",
   "metadata": {},
   "source": [
    "# Sytème cristallin, type de maille et groupe ponctuel"
   ]
  },
  {
   "cell_type": "markdown",
   "id": "ef9ef7d1",
   "metadata": {},
   "source": [
    "Pour caractériser une structure cristalline, il est essentiel de déterminer son système cristallin, son type de maille et son groupe ponctuel. Le système cristallin décrit la manière dont les points du réseau se répètent périodiquement dans l’espace en fonction des paramètres de maille. Le type de maille définit l'unité de base du réseau, qui, par translation, permet de reconstruire l’ensemble de la structure cristalline. Enfin, le groupe ponctuel regroupe les opérations de symétrie qui laissent au moins un point invariant de l'espace sur lequel ces opérations de symétrie agissent."
   ]
  },
  {
   "cell_type": "code",
   "execution_count": 44,
   "id": "c7eaeb7d",
   "metadata": {},
   "outputs": [
    {
     "name": "stdout",
     "output_type": "stream",
     "text": [
      "Système cristallin : trigonal\n",
      "\n",
      "Type de maille : rhombohedral\n",
      "\n",
      "Groupe ponctuel : -3m\n"
     ]
    }
   ],
   "source": [
    "syst_cristal = struct.get_crystal_system() \n",
    "print(\"Système cristallin :\", syst_cristal)\n",
    "print(\"\")\n",
    "\n",
    "type_maille = struct.get_lattice_type()\n",
    "print(\"Type de maille :\", type_maille)\n",
    "print(\"\")\n",
    "\n",
    "group_ponctuel = struct.get_point_group_symbol()\n",
    "print(\"Groupe ponctuel :\", group_ponctuel)"
   ]
  }
 ],
 "metadata": {
  "kernelspec": {
   "display_name": "Python 3 (ipykernel)",
   "language": "python",
   "name": "python3"
  },
  "language_info": {
   "codemirror_mode": {
    "name": "ipython",
    "version": 3
   },
   "file_extension": ".py",
   "mimetype": "text/x-python",
   "name": "python",
   "nbconvert_exporter": "python",
   "pygments_lexer": "ipython3",
   "version": "3.9.13"
  }
 },
 "nbformat": 4,
 "nbformat_minor": 5
}
