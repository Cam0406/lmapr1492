{
 "cells": [
  {
   "cell_type": "markdown",
   "id": "56b11a8a",
   "metadata": {},
   "source": [
    "# Tâche 7"
   ]
  },
  {
   "cell_type": "markdown",
   "id": "89b82713",
   "metadata": {},
   "source": [
    "Déterminer la bande interdite,\n",
    "\n",
    "Trouver la direction dans laquelle la dernière (première) bande de valence (conduction) présente le plus et le moins de dispersion (insérer une figure indiquant la dispersion par des flèches),\n",
    "\n",
    "Calculer la masse effective au sommet (base) de la dernière (première) bande de valence (conduction) en supposant une dispersion parabolique."
   ]
  },
  {
   "cell_type": "code",
   "execution_count": 19,
   "id": "4842d04f",
   "metadata": {},
   "outputs": [],
   "source": [
    "import numpy as np\n",
    "from mp_api.client import MPRester\n",
    "from lmapr1492 import *\n",
    "from plotly.subplots import make_subplots\n",
    "import plotly.graph_objects as go\n",
    "import matplotlib.pyplot as plt \n",
    "from pymatgen.electronic_structure.plotter import BSPlotter\n",
    "from pymatgen.electronic_structure.core import Spin\n",
    "from pymatgen.symmetry.analyzer import SpacegroupAnalyzer\n",
    "from pymatgen.electronic_structure.plotter import BSPlotter\n"
   ]
  },
  {
   "cell_type": "code",
   "execution_count": 20,
   "id": "5cf83131",
   "metadata": {},
   "outputs": [],
   "source": [
    "mp_key = \"xaEW7gxeGjtHSTeJuWSz9Uf8JpzNlgtg\"\n",
    "mp_id = \"mp-9382\""
   ]
  },
  {
   "cell_type": "code",
   "execution_count": 21,
   "id": "f4820770",
   "metadata": {},
   "outputs": [
    {
     "data": {
      "application/vnd.jupyter.widget-view+json": {
       "model_id": "d985ad6b8ea04eebb345e50946537fd5",
       "version_major": 2,
       "version_minor": 0
      },
      "text/plain": [
       "Retrieving MaterialsDoc documents:   0%|          | 0/1 [00:00<?, ?it/s]"
      ]
     },
     "metadata": {},
     "output_type": "display_data"
    },
    {
     "data": {
      "application/vnd.jupyter.widget-view+json": {
       "model_id": "09d4fbb147e743adb021f310bb4838a4",
       "version_major": 2,
       "version_minor": 0
      },
      "text/plain": [
       "Retrieving ElectronicStructureDoc documents:   0%|          | 0/1 [00:00<?, ?it/s]"
      ]
     },
     "metadata": {},
     "output_type": "display_data"
    }
   ],
   "source": [
    "with MPRester(mp_key) as m:\n",
    "    structure = m.get_structure_by_material_id(mp_id)\n",
    "    el_bs = m.get_bandstructure_by_material_id(mp_id)\n",
    "struct = SpacegroupAnalyzer(structure)\n",
    "conv_structure = SpacegroupAnalyzer(structure).get_conventional_standard_structure()"
   ]
  },
  {
   "cell_type": "markdown",
   "id": "cb01d599",
   "metadata": {},
   "source": [
    "# 1) Structure de bande électronique du  SrZrN2"
   ]
  },
  {
   "cell_type": "code",
   "execution_count": null,
   "id": "59bb4e91",
   "metadata": {},
   "outputs": [
    {
     "data": {
      "text/plain": [
       "<Axes: xlabel='$\\\\mathrm{Wave\\\\ Vector}$', ylabel='$\\\\mathrm{E\\\\ -\\\\ E_f\\\\ (eV)}$'>"
      ]
     },
     "execution_count": 22,
     "metadata": {},
     "output_type": "execute_result"
    }
   ],
   "source": [
    "fig = BSPlotter(el_bs)\n",
    "fig.get_plot()"
   ]
  },
  {
   "cell_type": "markdown",
   "id": "94c17ca3",
   "metadata": {},
   "source": [
    "# 2) Bande interdite"
   ]
  },
  {
   "cell_type": "code",
   "execution_count": null,
   "id": "9daa9a58",
   "metadata": {},
   "outputs": [],
   "source": [
    "print(el_bs.get_band_gap())"
   ]
  },
  {
   "cell_type": "markdown",
   "id": "93b5a775",
   "metadata": {},
   "source": [
    "La bande interdite (ou gap de bande) correspond à l’intervalle énergétique séparant la bande de valence de la bande de conduction dans un matériau. Pour qu’un électron puisse passer de la bande de valence à la bande de conduction (et ainsi contribuer à la conduction électrique), il doit absorber une énergie au moins égale à celle de cette bande interdite.\n",
    "\n",
    "Dans le cas étudié (SrZrN2), l’énergie de la bande interdite est Eg = 0.2325 eV. La transition électronique s’effectue entre le point Γ (sommet de la bande de valence) et le point F (base de la bande de conduction). Ce matériau est donc un semiconducteur, avec un gap inférieur à 1 eV.\n",
    "\n",
    "La bande interdite est indirecte, le sommet de la bande de valence et la base de la bande de conduction ne se situent pas au même point dans l’espace réciproque. En d'autres termes, une bande interdite indirecte peut être décrite comme le phénomène dans lequel le maximum de la bande de valence ainsi que le minimum de la bande de conduction sont à différentes valeurs de k.\n",
    "\n",
    "Dans les semi-conducteurs à bande interdite indirecte, la transition d'un électron de la bande de valence à la bande de conduction nécessite non seulement un apport d'énergie, mais aussi un changement de vecteur d'onde. Les photons, ayant un vecteur d'onde très faible, ne peuvent pas fournir ce changement. Par conséquent, un phonon doit intervenir pour compenser cette différence de vecteur d'onde"
   ]
  },
  {
   "cell_type": "code",
   "execution_count": null,
   "id": "ede794a6",
   "metadata": {},
   "outputs": [],
   "source": [
    "print(\"VBM band index structure:\", el_bs.get_vbm()['band_index'])\n",
    "print(\"CBM band index structure:\", el_bs.get_cbm()['band_index'])\n"
   ]
  },
  {
   "cell_type": "code",
   "execution_count": null,
   "id": "722b3bcf",
   "metadata": {},
   "outputs": [],
   "source": [
    "bs_plot_data = BSPlotter(el_bs).bs_plot_data()\n",
    "distance = bs_plot_data.get('ticks').get('distance')\n",
    "distances = bs_plot_data.get('distances')\n",
    "energy = bs_plot_data.get('energy')\n",
    "\n",
    "\n",
    "vbm_band_index = el_bs.get_vbm()['band_index'][Spin.up][-1]  # Dernière bande de valence\n",
    "cbm_band_index = el_bs.get_cbm()['band_index'][Spin.up][0]   # Première bande de conduction\n",
    "\n",
    "\n",
    "BSPlotter(el_bs).get_plot()\n",
    "\n",
    "\n",
    "for i in range(len(distances)):\n",
    "    plt.plot(distances[i], energy.get('1')[i][vbm_band_index], 'green') \n",
    "    plt.plot(distances[i], energy.get('1')[i][cbm_band_index], 'red') \n",
    "\n",
    "\n",
    "cbm_coord = bs_plot_data.get('cbm')\n",
    "for (x, y) in cbm_coord:\n",
    "    plt.plot(x, y, 'or', markersize=8)  \n",
    "\n",
    "\n",
    "vbm_coord = bs_plot_data.get('vbm')\n",
    "for (x, y) in vbm_coord:\n",
    "    plt.plot(x, y, 'og', markersize=8)  \n",
    "\n",
    "\n",
    "plt.title(\"Mise en évidence de la bande interdite indirecte dans la structure des bandes électroniques\")\n",
    "plt.fill_between(\n",
    "    np.linspace(distance[0], distance[-1], 500), \n",
    "    0, \n",
    "    el_bs.get_band_gap().get('energy'), \n",
    "    color=\"orange\"\n",
    ")\n",
    "\n",
    "plt.show()\n",
    "\n",
    "\n",
    "bsplot = BSPlotter(el_bs)\n",
    "bsdata = bsplot.bs_plot_data()\n",
    "\n",
    "vbm = el_bs.get_vbm()\n",
    "cbm = el_bs.get_cbm()\n",
    "\n",
    "\n",
    "indices_vbm = list(vbm[\"band_index\"].get(Spin.up, []))  \n",
    "indices_cbm = list(cbm[\"band_index\"].get(Spin.up, []))  \n",
    "\n",
    "\n",
    "kpoint_vbm = vbm[\"kpoint\"].cart_coords\n",
    "kpoint_cbm = cbm[\"kpoint\"].cart_coords\n",
    "\n",
    "\n",
    "print(\"\\nDernière bande de valence :\")\n",
    "print(\"Énergie du maximum de la bande de valence = {:.2f} eV\".format(vbm[\"energy\"]))\n",
    "print(\"Vecteur k en coordonnées cartésiennes =\", kpoint_vbm)\n",
    "print(\"Indices des bandes de valence :\", indices_vbm)\n",
    "\n",
    "print(\"\\nPremière bande de conduction :\")\n",
    "print(\"Énergie minimum de la bande de conduction = {:.2f} eV\".format(cbm[\"energy\"]))\n",
    "print(\"Vecteur k en coordonnées cartésiennes =\", kpoint_cbm)\n",
    "print(\"Indices des bandes de conduction :\", indices_cbm)\n"
   ]
  },
  {
   "cell_type": "markdown",
   "id": "ecb1e9a2",
   "metadata": {},
   "source": [
    "# 3) Dispersion"
   ]
  },
  {
   "cell_type": "markdown",
   "id": "075a4915",
   "metadata": {},
   "source": [
    "La dispersion dans les bandes de conduction et de valence décrit comment l’énergie des électrons varie en fonction de leur vecteur d’onde k. Cette relation, notée E(k), influence directement la mobilité des électrons et les propriétés de transport électrique d’un matériau. Un électron se déplace dans un matériau avec une vitesse de groupe proportionnelle à la pente de E(k). Plus cette pente est prononcée, plus l’électron est mobile. À l’inverse, une pente faible traduit une dispersion réduite et une mobilité plus limitée.\n",
    "\n",
    "Dans un diagramme de bandes électroniques, une forte dispersion correspond à une bande inclinée, indiquant que les électrons peuvent se déplacer rapidement, une caractéristique favorable à la conductivité. En revanche, une bande plate reflète une faible dispersion, suggérant que les électrons sont plus localisés et moins aptes à se déplacer librement."
   ]
  },
  {
   "cell_type": "code",
   "execution_count": null,
   "id": "3c37416c",
   "metadata": {},
   "outputs": [],
   "source": [
    "x = np.unique(bsdata[\"ticks\"][\"distance\"])  \n",
    "y = bsdata[\"energy\"]\n",
    "\n",
    "num_points = len(x) - 1 \n",
    "\n",
    "dx = np.zeros(num_points)\n",
    "dy_vbm = np.zeros(num_points)\n",
    "dy_cbm = np.zeros(num_points)\n",
    "m_vbm = np.zeros(num_points)\n",
    "m_cbm = np.zeros(num_points)\n",
    "\n",
    "for i in range(num_points):\n",
    "    dx[i] = x[i+1] - x[i]\n",
    "\n",
    "for i in range(num_points):\n",
    "    dy_vbm[i] = y[\"1\"][i][15][-1] - y[\"1\"][i][15][0] \n",
    "    dy_cbm[i] = y[\"1\"][i][16][-1] - y[\"1\"][i][16][0] \n",
    "\n",
    "\n",
    "for i in range(num_points):\n",
    "    m_vbm[i] = dy_vbm[i] / dx[i]\n",
    "    m_cbm[i] = dy_cbm[i] / dx[i]\n",
    "\n",
    "idx_max_vbm = np.argmax(abs(m_vbm))\n",
    "idx_min_vbm = np.argmin(abs(m_vbm))\n",
    "idx_max_cbm = np.argmax(abs(m_cbm))\n",
    "idx_min_cbm = np.argmin(abs(m_cbm))\n",
    "\n",
    "print(\"En valeur absolue :\")\n",
    "print(\"La plus grande dispersion pour la bande de valence : {:.6f} (index {})\".format(abs(m_vbm[idx_max_vbm]), idx_max_vbm))\n",
    "print(\"La plus grande dispersion pour la bande de conduction : {:.6f} (index {})\".format(abs(m_cbm[idx_max_cbm]), idx_max_cbm))\n",
    "print(\"La plus faible dispersion pour la bande de valence : {:.6f} (index {})\".format(abs(m_vbm[idx_min_vbm]), idx_min_vbm))\n",
    "print(\"La plus faible dispersion pour la bande de conduction : {:.6f} (index {})\".format(abs(m_cbm[idx_min_cbm]), idx_min_cbm))\n",
    "\n"
   ]
  },
  {
   "cell_type": "code",
   "execution_count": null,
   "id": "adf93bd8",
   "metadata": {},
   "outputs": [],
   "source": [
    "bsplot.get_plot()\n",
    "\n",
    "\n",
    "plt.arrow(x[idx_max_vbm], y[\"1\"][idx_max_vbm][15][0], dx[idx_max_vbm], dy_vbm[idx_max_vbm], \n",
    "          color='m', width=0.05, head_width=0.15, length_includes_head=True, label=\"VBM max\")\n",
    "\n",
    "plt.arrow(x[idx_min_vbm], y[\"1\"][idx_min_vbm][15][0], dx[idx_min_vbm], dy_vbm[idx_min_vbm], \n",
    "          color='k', width=0.05, head_width=0.15, length_includes_head=True, label=\"VBM min\") \n",
    "\n",
    "plt.arrow(x[idx_max_cbm], y[\"1\"][idx_max_cbm][16][0], dx[idx_max_cbm], dy_cbm[idx_max_cbm], \n",
    "          color='b', width=0.05, head_width=0.15, length_includes_head=True, label=\"CBM max\")\n",
    "\n",
    "plt.arrow(x[idx_min_cbm], y[\"1\"][idx_min_cbm][16][0], dx[idx_min_cbm], dy_cbm[idx_min_cbm], \n",
    "          color='y', width=0.05, head_width=0.15, length_includes_head=True, label=\"CBM min\")\n",
    "\n",
    "d = len(distances)\n",
    "\n",
    "for i in range(d):\n",
    "    plt.plot(distances[i], energy['1'][i][vbm_band_index], 'green') \n",
    "    plt.plot(distances[i], energy['1'][i][cbm_band_index], 'red')   \n",
    "\n",
    "\n",
    "for (x, y) in bs_plot_data.get(\"vbm\"):\n",
    "    plt.plot(x, y, 'og', markersize=10)  \n",
    "\n",
    "for (x, y) in bs_plot_data.get(\"cbm\"):\n",
    "    plt.plot(x, y, 'or', markersize=10) \n",
    "\n",
    "plt.title(\"Dispersions des bandes de valence et conduction\")\n",
    "plt.legend()\n",
    "plt.show()\n"
   ]
  },
  {
   "cell_type": "markdown",
   "id": "3a3f57b8",
   "metadata": {},
   "source": [
    "# 4) Masse effective"
   ]
  },
  {
   "cell_type": "markdown",
   "id": "f851342c",
   "metadata": {},
   "source": [
    "Il est souvent intéressant de décrire les électrons commes des particules libres dont la masse effective varie plutôt que des particules de masse fixée évoluant dans un potentiel. Cette masse effective peut être positive ou négative, supérieur ou inférieure à la masse réelle de l'électron.\n",
    "\n",
    "La masse effective est définie par le tenseur d'ordre 2 des dérivées secondes de l'énergie E par rapport au vecteur d'onde k : \n",
    "\n",
    "$ m^*_{ij} = \\left( \\frac{\\partial^2 E}{\\partial k_i \\partial k_j} \\right)^{-1}$\n",
    "\n",
    "Nous nous intéressons ici à la masse effective au sommet de la dernière bande de valence et au bas de la première bande de conduction. Afin de simplifier le calcul, nous supposons une dispersion parabolique, ce qui permet de modéliser la relation entre l’énergie et le vecteur d’onde sous la forme d’une parabole. Dans le cadre de cette hypothèse, la masse effective se calcule selon l'expression suivante : \n",
    "\n",
    "$ m^* = \\frac{\\hbar^2 \\cdot k^2}{2 \\cdot E(k)} $\n",
    "\n",
    "\n"
   ]
  },
  {
   "cell_type": "code",
   "execution_count": null,
   "id": "9585d346",
   "metadata": {},
   "outputs": [],
   "source": [
    "norm_k_vbm = np.linalg.norm(kpoint_vbm)\n",
    "norm_k_cbm = np.linalg.norm(kpoint_cbm)\n",
    "\n",
    "hbar = 6.5821e-16  \n",
    "me = 9.11e-31  \n",
    "\n",
    "m_vbm = (hbar**2 * norm_k_vbm**2) / (2 * abs(vbm[\"energy\"]))\n",
    "m_cbm = (hbar**2 * norm_k_cbm**2) / (2 * abs(cbm[\"energy\"]))  \n",
    "\n",
    "\n",
    "print(\"La masse effective au sommet de la dernière bande de valence est {:.2e} kg.\".format(m_vbm))\n",
    "print(\"La masse effective à la base de la première bande de conduction est {:.2e} kg.\".format(m_cbm))\n"
   ]
  }
 ],
 "metadata": {
  "kernelspec": {
   "display_name": "Python 3 (ipykernel)",
   "language": "python",
   "name": "python3"
  },
  "language_info": {
   "codemirror_mode": {
    "name": "ipython",
    "version": 3
   },
   "file_extension": ".py",
   "mimetype": "text/x-python",
   "name": "python",
   "nbconvert_exporter": "python",
   "pygments_lexer": "ipython3",
   "version": "3.9.13"
  }
 },
 "nbformat": 4,
 "nbformat_minor": 5
}
